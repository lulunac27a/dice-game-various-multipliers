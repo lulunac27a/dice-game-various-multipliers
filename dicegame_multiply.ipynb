{
 "cells": [
  {
   "cell_type": "markdown",
   "id": "5a68504d-1768-4927-a207-ff4a12ce9812",
   "metadata": {},
   "source": [
    "# Multiplayer Dice Game with Various Score Multipliers\n",
    "\n",
    "This project is a dice game with various score multipliers that multiplys by 2 for each criteria that met the roll requirements, else reset it to 1."
   ]
  },
  {
   "cell_type": "code",
   "execution_count": 1,
   "id": "267b81b2-8270-4197-a912-c790a116b12a",
   "metadata": {},
   "outputs": [
    {
     "data": {
      "application/vnd.jupyter.widget-view+json": {
       "model_id": "53555163c9564d8ebaa262703f5e4d12",
       "version_major": 2,
       "version_minor": 0
      },
      "text/plain": [
       "IntSlider(value=10, continuous_update=False, description='Rolls:', max=20, min=1)"
      ]
     },
     "metadata": {},
     "output_type": "display_data"
    },
    {
     "data": {
      "application/vnd.jupyter.widget-view+json": {
       "model_id": "a0ce59aca764487fa163c29bca059649",
       "version_major": 2,
       "version_minor": 0
      },
      "text/plain": [
       "IntSlider(value=2, continuous_update=False, description='Players:', max=10, min=1)"
      ]
     },
     "metadata": {},
     "output_type": "display_data"
    },
    {
     "data": {
      "application/vnd.jupyter.widget-view+json": {
       "model_id": "7a18d68ae47c4d879d50bb31ff74efe8",
       "version_major": 2,
       "version_minor": 0
      },
      "text/plain": [
       "Button(description='Roll Dice', style=ButtonStyle())"
      ]
     },
     "metadata": {},
     "output_type": "display_data"
    },
    {
     "data": {
      "application/vnd.jupyter.widget-view+json": {
       "model_id": "a8cb37ac89834f0e934f33811a5c2117",
       "version_major": 2,
       "version_minor": 0
      },
      "text/plain": [
       "Output()"
      ]
     },
     "metadata": {},
     "output_type": "display_data"
    }
   ],
   "source": [
    "\"\"\"\n",
    "Dice game with various score multipliers by multiplication.\n",
    "\"\"\"\n",
    "import random #generate random numbers\n",
    "\n",
    "import ipywidgets as widgets #display widgets in iPython\n",
    "from IPython.display import display, clear_output #display iPython content\n",
    "\n",
    "def dice_game(num_rolls = 10, num_players = 2, highest_guess = 4, guess = 7):\n",
    "    \"\"\"\n",
    "    Dice game with various score multipliers that multiply by 2 if criteria meets the requirements, else reset to 1.\n",
    "    \"\"\"    \n",
    "    scores = [0] * num_players #set score to 0 for specified number of players\n",
    "    score_multiplier = 1 #set score multiplier to 1\n",
    "    score_multiplier_for_doubles = 1 #set score multiplier for doubles to 1\n",
    "    score_multiplier_for_sixes = 1 #set score multiplier for sixes to 1\n",
    "    score_multiplier_for_highest_guess = 1 #set score multiplier for highest guess to 1\n",
    "    score_multiplier_for_sequential = 1 #set score multiplier for sequenial dice to 1\n",
    "    score_multiplier_for_close_dice = 1 #set score multiplier for close dice to 1\n",
    "    score_multiplier_for_low_or_high = 1 #set score multipler for low or high dice to 1\n",
    "    for _ in range(num_rolls): #repeat for each roll\n",
    "        for player in range(num_players): #repeat for each player\n",
    "            roll1 = random.randint(1, 6) #set first rolled dice to 1 to 6\n",
    "            roll2 = random.randint(1, 6) #set second rolled dice to 1 to 6\n",
    "            total_rolls = roll1 + roll2 #set total rolls to sum of first and second rolls\n",
    "            double_roll = roll1 == roll2 #check for doubles (first rolled dice is equal to second rolled dice)\n",
    "            if double_roll: #if roll is double\n",
    "                score_multiplier_for_doubles *= 2 #double the score multiplier\n",
    "            else:\n",
    "                score_multiplier_for_doubles = 1 #reset score multiplier to 1\n",
    "\n",
    "            if roll1 == 6 or roll2 == 6: #if rolled dice has a six\n",
    "                score_multiplier_for_sixes *= 2\n",
    "            else:\n",
    "                score_multiplier_for_sixes = 1\n",
    "\n",
    "            if max(roll1, roll2) == highest_guess: #if highest dice rolled is equal to highest guess value\n",
    "                score_multiplier_for_highest_guess *= 2\n",
    "            else:\n",
    "                score_multiplier_for_highest_guess = 1\n",
    "\n",
    "            if roll2 >= roll1: #if second rolled dice is greater than or equal to first rolled dice\n",
    "                score_multiplier_for_sequential *= 2\n",
    "            else:\n",
    "                score_multiplier_for_sequential = 1\n",
    "\n",
    "            diff = abs(roll1 - roll2) #calculate difference between first rolled dice and second rolled dice\n",
    "            if diff == 1 or diff == 0: #if difference is 0 or 1\n",
    "                score_multiplier_for_close_dice *= 2\n",
    "            else:\n",
    "                score_multiplier_for_close_dice = 1\n",
    "\n",
    "            if total_rolls == guess: #if sum of rolled dice is equal to guessed number\n",
    "                score_multiplier *= 2\n",
    "            else:\n",
    "                score_multiplier = 1\n",
    "\n",
    "            if total_rolls == 2 or total_rolls == 3 or total_rolls == 11 or total_rolls == 12: #if total sum of rolled dice is 2, 3, 11, or 12\n",
    "                score_multiplier_for_low_or_high *= 2\n",
    "            else:\n",
    "                score_multiplier_for_low_or_high = 1\n",
    "\n",
    "            score_multiplier_for_two_sixes = 2 if roll1 == 6 and roll2 == 6 else 1\n",
    "            scores[player] += (roll1 + roll2) * score_multiplier * score_multiplier_for_doubles * score_multiplier_for_sixes * score_multiplier_for_two_sixes * score_multiplier_for_highest_guess * score_multiplier_for_sequential * score_multiplier_for_close_dice * score_multiplier_for_low_or_high #add score from various score multipliers\n",
    "\n",
    "    return scores #return list of scores for all players\n",
    "\n",
    "\n",
    "num_rolls_slider = widgets.IntSlider( #slider to set number of rolls\n",
    "    value=10,\n",
    "    min=1,\n",
    "    max=20,\n",
    "    step=1,\n",
    "    description='Rolls:',\n",
    "    continuous_update=False)\n",
    "\n",
    "num_players_slider = widgets.IntSlider( #slider to set number of players\n",
    "    value=2,\n",
    "    min=1,\n",
    "    max=10,\n",
    "    step=1,\n",
    "    description='Players:',\n",
    "    continuous_update=False)\n",
    "\n",
    "change_value = widgets.Button(description='Roll Dice') #button to roll the dice\n",
    "output = widgets.Output() #display output widget\n",
    "display(num_rolls_slider, num_players_slider, change_value, output) #display widgets\n",
    "\n",
    "def roll_dice(change): #function to roll the dice\n",
    "    \"\"\"\n",
    "    Rolls the dice.\n",
    "    \"\"\"    \n",
    "    with output:\n",
    "        clear_output() #clear the output\n",
    "        global numRolls, numPlayers #set number of rolls and number of players to global variables\n",
    "        scores = dice_game(num_rolls_slider.value, num_players_slider.value) #set result scores to roll the dice and add the rolled dice with various score multipliers\n",
    "        print(scores) #print the result with scores for all players\n",
    "        return scores #return the scores list for all players\n",
    "\n",
    "change_value.on_click(roll_dice) #when roll dice button is clicked, roll the dice\n",
    "\n",
    "num_rolls_slider.observe(roll_dice, names='rolls') #observe number of rolls slider value\n",
    "num_players_slider.observe(roll_dice, names='players') #observe number of players slider value\n",
    "rolls = num_rolls_slider.value #set number of rolls based on slider value\n",
    "players = num_players_slider.value #set number of players based on slider value"
   ]
  }
 ],
 "metadata": {
  "kernelspec": {
   "display_name": "base",
   "language": "python",
   "name": "python3"
  },
  "language_info": {
   "codemirror_mode": {
    "name": "ipython",
    "version": 3
   },
   "file_extension": ".py",
   "mimetype": "text/x-python",
   "name": "python",
   "nbconvert_exporter": "python",
   "pygments_lexer": "ipython3",
   "version": "3.9.13"
  }
 },
 "nbformat": 4,
 "nbformat_minor": 5
}
