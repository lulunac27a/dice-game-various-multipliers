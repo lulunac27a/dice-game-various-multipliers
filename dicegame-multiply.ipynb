{
 "cells": [
  {
   "cell_type": "markdown",
   "id": "5a68504d-1768-4927-a207-ff4a12ce9812",
   "metadata": {},
   "source": [
    "# Multiplayer Dice Game with Various Score Multipliers\n",
    "\n",
    "This project is a dice game with various score multipliers that multiplys by 2 for each criteria that met the roll requirements, else reset it to 1."
   ]
  },
  {
   "cell_type": "code",
   "execution_count": 1,
   "id": "267b81b2-8270-4197-a912-c790a116b12a",
   "metadata": {},
   "outputs": [
    {
     "data": {
      "application/vnd.jupyter.widget-view+json": {
       "model_id": "57b917a357524ae3979262e2154f7eb6",
       "version_major": 2,
       "version_minor": 0
      },
      "text/plain": [
       "IntSlider(value=10, continuous_update=False, description='Rolls:', max=20, min=1)"
      ]
     },
     "metadata": {},
     "output_type": "display_data"
    },
    {
     "data": {
      "application/vnd.jupyter.widget-view+json": {
       "model_id": "10c003dcc8b843429d119a11d0aa80b3",
       "version_major": 2,
       "version_minor": 0
      },
      "text/plain": [
       "IntSlider(value=2, continuous_update=False, description='Players:', max=10, min=1)"
      ]
     },
     "metadata": {},
     "output_type": "display_data"
    },
    {
     "data": {
      "application/vnd.jupyter.widget-view+json": {
       "model_id": "ee767f8d695a4507b2184c818000c3d2",
       "version_major": 2,
       "version_minor": 0
      },
      "text/plain": [
       "Button(description='Roll Dice', style=ButtonStyle())"
      ]
     },
     "metadata": {},
     "output_type": "display_data"
    },
    {
     "data": {
      "application/vnd.jupyter.widget-view+json": {
       "model_id": "78a5b2b1ca674826bbeb69c39e85075c",
       "version_major": 2,
       "version_minor": 0
      },
      "text/plain": [
       "Output()"
      ]
     },
     "metadata": {},
     "output_type": "display_data"
    }
   ],
   "source": [
    "\"\"\"\n",
    "Dice game with various score multipliers by multiplication.\n",
    "\"\"\"\n",
    "import random\n",
    "\n",
    "import ipywidgets as widgets\n",
    "from IPython.display import display, clear_output\n",
    "\n",
    "def dice_game(num_rolls = 10, num_players = 2, highest_guess = 4, guess = 7):\n",
    "    \"\"\"\n",
    "    Dice game with various score multipliers that multiply by 2 if criteria meets the requirements, else reset to 1.\n",
    "    \"\"\"    \n",
    "    scores = [0] * num_players\n",
    "    score_multiplier = 1\n",
    "    score_multiplier_for_doubles = 1\n",
    "    score_multiplier_for_sixes = 1\n",
    "    score_multiplier_for_highest_guess = 1\n",
    "    score_multiplier_for_sequential = 1\n",
    "    score_multiplier_for_close_dice = 1\n",
    "    score_multiplier_for_low_or_high = 1\n",
    "    for _ in range(num_rolls):\n",
    "        for player in range(num_players):\n",
    "            roll1 = random.randint(1, 6)\n",
    "            roll2 = random.randint(1, 6)\n",
    "            total_rolls = roll1 + roll2\n",
    "            double_roll = roll1 == roll2\n",
    "            if double_roll:\n",
    "                score_multiplier_for_doubles *= 2\n",
    "            else:\n",
    "                score_multiplier_for_doubles = 1\n",
    "\n",
    "            if roll1 == 6 or roll2 == 6:\n",
    "                score_multiplier_for_sixes *= 2\n",
    "            else:\n",
    "                score_multiplier_for_sixes = 1\n",
    "\n",
    "            if max(roll1, roll2) == highest_guess:\n",
    "                score_multiplier_for_highest_guess *= 2\n",
    "            else:\n",
    "                score_multiplier_for_highest_guess = 1\n",
    "\n",
    "            if roll2 >= roll1:\n",
    "                score_multiplier_for_sequential *= 2\n",
    "            else:\n",
    "                score_multiplier_for_sequential = 1\n",
    "\n",
    "            diff = abs(roll1 - roll2)\n",
    "            if diff == 1 or diff == 0:\n",
    "                score_multiplier_for_close_dice *= 2\n",
    "            else:\n",
    "                score_multiplier_for_close_dice = 1\n",
    "\n",
    "            if total_rolls == guess:\n",
    "                score_multiplier *= 2\n",
    "            else:\n",
    "                score_multiplier = 1\n",
    "\n",
    "            if total_rolls == 2 or total_rolls == 3 or total_rolls == 11 or total_rolls == 12:\n",
    "                score_multiplier_for_low_or_high *= 2\n",
    "            else:\n",
    "                score_multiplier_for_low_or_high = 1\n",
    "\n",
    "            score_multiplier_for_two_sixes = 2 if roll1 == 6 and roll2 == 6 else 1\n",
    "            scores[player] += (roll1 + roll2) * score_multiplier * score_multiplier_for_doubles * score_multiplier_for_sixes * score_multiplier_for_two_sixes * score_multiplier_for_highest_guess * score_multiplier_for_sequential * score_multiplier_for_close_dice * score_multiplier_for_low_or_high\n",
    "\n",
    "    return scores\n",
    "\n",
    "num_rolls_slider = widgets.IntSlider(\n",
    "    value=10,\n",
    "    min=1,\n",
    "    max=20,\n",
    "    step=1,\n",
    "    description='Rolls:',\n",
    "    continuous_update=False)\n",
    "\n",
    "num_players_slider = widgets.IntSlider(\n",
    "    value=2,\n",
    "    min=1,\n",
    "    max=10,\n",
    "    step=1,\n",
    "    description='Players:',\n",
    "    continuous_update=False)\n",
    "\n",
    "change_value = widgets.Button(description='Roll Dice')\n",
    "output = widgets.Output()\n",
    "\n",
    "display(num_rolls_slider, num_players_slider, change_value, output)\n",
    "\n",
    "def roll_dice(change):\n",
    "    with output:\n",
    "        clear_output()\n",
    "        global numRolls, numPlayers\n",
    "        scores = dice_game(num_rolls_slider.value, num_players_slider.value)\n",
    "        print(scores)\n",
    "        return scores\n",
    "\n",
    "change_value.on_click(roll_dice)\n",
    "\n",
    "num_rolls_slider.observe(roll_dice, names='rolls')\n",
    "num_players_slider.observe(roll_dice, names='players')\n",
    "rolls = num_rolls_slider.value\n",
    "players = num_players_slider.value\n"
   ]
  }
 ],
 "metadata": {
  "kernelspec": {
   "display_name": "base",
   "language": "python",
   "name": "python3"
  },
  "language_info": {
   "codemirror_mode": {
    "name": "ipython",
    "version": 3
   },
   "file_extension": ".py",
   "mimetype": "text/x-python",
   "name": "python",
   "nbconvert_exporter": "python",
   "pygments_lexer": "ipython3",
   "version": "3.9.13"
  }
 },
 "nbformat": 4,
 "nbformat_minor": 5
}
