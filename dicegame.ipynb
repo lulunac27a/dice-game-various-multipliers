{
 "cells": [
  {
   "cell_type": "markdown",
   "id": "99cea57a-0c15-4d2d-a57c-ade6a429300f",
   "metadata": {},
   "source": [
    "# Multiplayer Dice Game with Various Score Multipliers\n",
    "\n",
    "This project is a dice game with various score multipliers that increases by 1 for each criteria that met the roll requirements, else reset it to 1."
   ]
  },
  {
   "cell_type": "code",
   "execution_count": 2,
   "id": "267b81b2-8270-4197-a912-c790a116b12a",
   "metadata": {},
   "outputs": [
    {
     "data": {
      "application/vnd.jupyter.widget-view+json": {
       "model_id": "223f34ca620b47a9922c811cddf373ad",
       "version_major": 2,
       "version_minor": 0
      },
      "text/plain": [
       "IntSlider(value=10, continuous_update=False, description='Rolls:', max=20, min=1)"
      ]
     },
     "metadata": {},
     "output_type": "display_data"
    },
    {
     "data": {
      "application/vnd.jupyter.widget-view+json": {
       "model_id": "ec9907ed36594cc4a1a4c2aa6aab4d9f",
       "version_major": 2,
       "version_minor": 0
      },
      "text/plain": [
       "IntSlider(value=2, continuous_update=False, description='Players:', max=10, min=1)"
      ]
     },
     "metadata": {},
     "output_type": "display_data"
    },
    {
     "data": {
      "application/vnd.jupyter.widget-view+json": {
       "model_id": "e254a2b39b674ab398727d066efc0d50",
       "version_major": 2,
       "version_minor": 0
      },
      "text/plain": [
       "Button(description='Roll Dice', style=ButtonStyle())"
      ]
     },
     "metadata": {},
     "output_type": "display_data"
    },
    {
     "data": {
      "application/vnd.jupyter.widget-view+json": {
       "model_id": "83ad9f1c4c904805bd283e7c9076059c",
       "version_major": 2,
       "version_minor": 0
      },
      "text/plain": [
       "Output()"
      ]
     },
     "metadata": {},
     "output_type": "display_data"
    }
   ],
   "source": [
    "import random\n",
    "\n",
    "import ipywidgets as widgets\n",
    "from IPython.display import display, clear_output\n",
    "\n",
    "\"\"\"Dice game with various score multipliers that increase by 1 if criteria meets the requirements, else reset to 1.\"\"\"\n",
    "\n",
    "def dice_game(num_rolls = 10, num_players = 2, highest_guess = 4, guess = 7):\n",
    "\tscores = [0] * num_players\n",
    "\tscore_multiplier = 1\n",
    "\tscore_multiplier_for_doubles = 1\n",
    "\tscore_multiplier_for_sixes = 1\n",
    "\tscore_multiplier_for_highest_guess = 1\n",
    "\tscore_multiplier_for_sequential = 1\n",
    "\tscore_multiplier_for_close_dice = 1\n",
    "\tscore_multiplier_for_low_or_high = 1\n",
    "\tfor _ in range(num_rolls):\n",
    "\t\tfor player in range(num_players):\n",
    "\t\t\troll1 = random.randint(1, 6)\n",
    "\t\t\troll2 = random.randint(1, 6)\n",
    "\t\t\ttotal_rolls = roll1 + roll2\n",
    "\t\t\tdouble_roll = roll1 == roll2\n",
    "\t\t\tif double_roll:\n",
    "\t\t\t\tscore_multiplier_for_doubles += 1\n",
    "\t\t\telse:\n",
    "\t\t\t\tscore_multiplier_for_doubles = 1\n",
    "\t\t\t\n",
    "\t\t\tif roll1 == 6 or roll2 == 6:\n",
    "\t\t\t\tscore_multiplier_for_sixes += 1\n",
    "\t\t\telse:\n",
    "\t\t\t\tscore_multiplier_for_sixes = 1\n",
    "\t\t\t\n",
    "\t\t\tif max(roll1, roll2) == highest_guess:\n",
    "\t\t\t\tscore_multiplier_for_highest_guess += 1\n",
    "\t\t\telse:\n",
    "\t\t\t\tscore_multiplier_for_highest_guess = 1\n",
    "\t\t\t\n",
    "\t\t\tif roll2 >= roll1:\n",
    "\t\t\t\tscore_multiplier_for_sequential += 1\n",
    "\t\t\telse:\n",
    "\t\t\t\tscore_multiplier_for_sequential = 1\n",
    "\t\t\t\n",
    "\t\t\tdiff = abs(roll1 - roll2)\n",
    "\t\t\tif diff == 1 or diff == 0:\n",
    "\t\t\t\tscore_multiplier_for_close_dice += 1\n",
    "\t\t\telse:\n",
    "\t\t\t\tscore_multiplier_for_close_dice = 1\n",
    "\t\t\t\n",
    "\t\t\tif total_rolls == guess:\n",
    "\t\t\t\tscore_multiplier += 1\n",
    "\t\t\telse:\n",
    "\t\t\t\tscore_multiplier = 1\n",
    "\t\t\t\n",
    "\t\t\tif total_rolls == 2 or total_rolls == 3 or total_rolls == 11 or total_rolls == 12:\n",
    "\t\t\t\tscore_multiplier_for_low_or_high += 1\n",
    "\t\t\telse:\n",
    "\t\t\t\tscore_multiplier_for_low_or_high = 1\n",
    "\t\t\t\n",
    "\t\t\tscore_multiplier_for_two_sixes = 2 if roll1 == 6 and roll2 == 6 else 1\n",
    "\t\t\tscores[player] += (roll1 + roll2) * score_multiplier * score_multiplier_for_doubles * score_multiplier_for_sixes * score_multiplier_for_two_sixes * score_multiplier_for_highest_guess * score_multiplier_for_sequential * score_multiplier_for_close_dice * score_multiplier_for_low_or_high\n",
    "\n",
    "\treturn scores\n",
    "\n",
    "num_rolls_slider = widgets.IntSlider(\n",
    "\tvalue=10,\n",
    "\tmin=1,\n",
    "\tmax=20,\n",
    "\tstep=1,\n",
    "\tdescription='Rolls:',\n",
    "\tcontinuous_update=False)\n",
    "\n",
    "num_players_slider = widgets.IntSlider(\n",
    "\tvalue=2,\n",
    "\tmin=1,\n",
    "\tmax=10,\n",
    "\tstep=1,\n",
    "\tdescription='Players:',\n",
    "\tcontinuous_update=False)\n",
    "\n",
    "change_value = widgets.Button(description='Roll Dice')\n",
    "output = widgets.Output()\n",
    "\n",
    "display(num_rolls_slider, num_players_slider, change_value, output)\n",
    "\n",
    "def roll_dice(change):\n",
    "\twith output:\n",
    "\t\tclear_output()\n",
    "\t\tglobal numRolls, numPlayers\n",
    "\t\tscores = dice_game(num_rolls_slider.value, num_players_slider.value)\n",
    "\t\tprint(scores)\n",
    "\t\treturn scores\n",
    "\t\t\n",
    "change_value.on_click(roll_dice)\n",
    "\n",
    "num_rolls_slider.observe(roll_dice, names='rolls')\n",
    "num_players_slider.observe(roll_dice, names='players')\n",
    "rolls = num_rolls_slider.value\n",
    "players = num_players_slider.value\n"
   ]
  }
 ],
 "metadata": {
  "kernelspec": {
   "display_name": "base",
   "language": "python",
   "name": "python3"
  },
  "language_info": {
   "codemirror_mode": {
    "name": "ipython",
    "version": 3
   },
   "file_extension": ".py",
   "mimetype": "text/x-python",
   "name": "python",
   "nbconvert_exporter": "python",
   "pygments_lexer": "ipython3",
   "version": "3.9.13"
  }
 },
 "nbformat": 4,
 "nbformat_minor": 5
}
