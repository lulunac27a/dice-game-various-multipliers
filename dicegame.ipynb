{
 "cells": [
  {
   "cell_type": "markdown",
   "id": "99cea57a-0c15-4d2d-a57c-ade6a429300f",
   "metadata": {},
   "source": [
    "# Multiplayer Dice Game with Various Score Multipliers\n",
    "\n",
    "This project is a dice game with various score multipliers that increases by 1 for each criteria that met the roll requirements, else reset it to 1."
   ]
  },
  {
   "cell_type": "code",
   "execution_count": 1,
   "id": "267b81b2-8270-4197-a912-c790a116b12a",
   "metadata": {},
   "outputs": [
    {
     "data": {
      "application/vnd.jupyter.widget-view+json": {
       "model_id": "c4b88a48a6de469a8544e165e149c386",
       "version_major": 2,
       "version_minor": 0
      },
      "text/plain": [
       "IntSlider(value=10, continuous_update=False, description='Rolls:', max=20, min=1)"
      ]
     },
     "metadata": {},
     "output_type": "display_data"
    },
    {
     "data": {
      "application/vnd.jupyter.widget-view+json": {
       "model_id": "2889d46a0a6943688f25d311a1329a79",
       "version_major": 2,
       "version_minor": 0
      },
      "text/plain": [
       "IntSlider(value=2, continuous_update=False, description='Players:', max=10, min=1)"
      ]
     },
     "metadata": {},
     "output_type": "display_data"
    },
    {
     "data": {
      "application/vnd.jupyter.widget-view+json": {
       "model_id": "199c38f57c3e45688f14c0625d48ff48",
       "version_major": 2,
       "version_minor": 0
      },
      "text/plain": [
       "Button(description='Roll Dice', style=ButtonStyle())"
      ]
     },
     "metadata": {},
     "output_type": "display_data"
    },
    {
     "data": {
      "application/vnd.jupyter.widget-view+json": {
       "model_id": "d4f4ab2e2e2e459082e7885f33209fdd",
       "version_major": 2,
       "version_minor": 0
      },
      "text/plain": [
       "Output()"
      ]
     },
     "metadata": {},
     "output_type": "display_data"
    }
   ],
   "source": [
    "import ipywidgets as widgets\n",
    "from IPython.display import display, clear_output\n",
    "import math\n",
    "import random\n",
    "\n",
    "def diceGame(numRolls = 10, numPlayers = 2, highestGuess = 4, guess = 7):\n",
    "    scores = [0] * numPlayers\n",
    "    scoreMultiplier = 1\n",
    "    scoreMultiplierForDoubles = 1\n",
    "    scoreMultiplierForSixes = 1\n",
    "    scoreMultiplierForHighestGuess = 1\n",
    "    scoreMultiplierForSequential = 1\n",
    "    scoreMultiplierForCloseDice = 1\n",
    "    scoreMultiplierForLowOrHigh = 1\n",
    "    for i in range(numRolls):\n",
    "        for player in range(numPlayers):\n",
    "            roll1 = random.randint(1, 6)\n",
    "            roll2 = random.randint(1, 6)\n",
    "            totalRolls = roll1 + roll2\n",
    "            doubleRoll = roll1 == roll2\n",
    "            if doubleRoll:\n",
    "                scoreMultiplierForDoubles += 1\n",
    "            else:\n",
    "                scoreMultiplierForDoubles = 1\n",
    "            \n",
    "            if roll1 == 6 or roll2 == 6:\n",
    "                scoreMultiplierForSixes += 1\n",
    "            else:\n",
    "                scoreMultiplierForSixes = 1\n",
    "            \n",
    "            if max(roll1, roll2) == highestGuess:\n",
    "                scoreMultiplierForHighestGuess += 1\n",
    "            else:\n",
    "                scoreMultiplierForHighestGuess = 1\n",
    "            \n",
    "            if roll2 >= roll1:\n",
    "                scoreMultiplierForSequential += 1\n",
    "            else:\n",
    "                scoreMultiplierForSequential = 1\n",
    "            \n",
    "            diff = abs(roll1 - roll2)\n",
    "            if diff == 1 or diff == 0:\n",
    "                scoreMultiplierForCloseDice += 1\n",
    "            else:\n",
    "                scoreMultiplierForCloseDice = 1\n",
    "            \n",
    "            if totalRolls == guess:\n",
    "                scoreMultiplier += 1\n",
    "            else:\n",
    "                scoreMultiplier = 1\n",
    "            \n",
    "            if totalRolls == 2 or totalRolls == 3 or totalRolls == 11 or totalRolls == 12:\n",
    "                scoreMultiplierForLowOrHigh += 1\n",
    "            else:\n",
    "                scoreMultiplierForLowOrHigh = 1\n",
    "            \n",
    "            scoreMultiplierForTwoSixes = 2 if roll1 == 6 and roll2 == 6 else 1\n",
    "            scores[player] += (roll1 + roll2) * scoreMultiplier * scoreMultiplierForDoubles * scoreMultiplierForSixes * scoreMultiplierForTwoSixes * scoreMultiplierForHighestGuess * scoreMultiplierForSequential * scoreMultiplierForCloseDice * scoreMultiplierForLowOrHigh\n",
    "\n",
    "    return scores\n",
    "\n",
    "numRollsSlider = widgets.IntSlider(\n",
    "    value=10,\n",
    "    min=1,\n",
    "    max=20,\n",
    "    step=1,\n",
    "    description='Rolls:',\n",
    "    continuous_update=False)\n",
    "\n",
    "numPlayersSlider = widgets.IntSlider(\n",
    "    value=2,\n",
    "    min=1,\n",
    "    max=10,\n",
    "    step=1,\n",
    "    description='Players:',\n",
    "    continuous_update=False)\n",
    "\n",
    "changeValue = widgets.Button(description='Roll Dice')\n",
    "output = widgets.Output()\n",
    "\n",
    "display(numRollsSlider, numPlayersSlider, changeValue, output)\n",
    "\n",
    "def rollDice(change):\n",
    "    with output:\n",
    "        clear_output()\n",
    "        global numRolls, numPlayers\n",
    "        scores = diceGame(numRollsSlider.value, numPlayersSlider.value)\n",
    "        print(scores)\n",
    "        return scores\n",
    "        \n",
    "changeValue.on_click(rollDice)\n",
    "\n",
    "numRollsSlider.observe(rollDice, names='rolls')\n",
    "numPlayersSlider.observe(rollDice, names='players')\n",
    "rolls = numRollsSlider.value\n",
    "players = numPlayersSlider.value"
   ]
  }
 ],
 "metadata": {
  "kernelspec": {
   "display_name": "Python 3 (ipykernel)",
   "language": "python",
   "name": "python3"
  },
  "language_info": {
   "codemirror_mode": {
    "name": "ipython",
    "version": 3
   },
   "file_extension": ".py",
   "mimetype": "text/x-python",
   "name": "python",
   "nbconvert_exporter": "python",
   "pygments_lexer": "ipython3",
   "version": "3.9.13"
  }
 },
 "nbformat": 4,
 "nbformat_minor": 5
}
